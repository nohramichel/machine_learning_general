{
 "cells": [
  {
   "cell_type": "markdown",
   "metadata": {},
   "source": [
    "# HArmful brain-activities\n",
    "\n",
    "This notebook aims to develop a model to classify harmful five types of harmful brain activities, (seizure, generalized periodic discharges, lateralized periodic discharges, lateralized rhythmic delta activity, generalized rhythmic delta activity). The data are imported from Kaggle (\"HMS - Harmful Brain Activity Classification\" competition). The model aims to classify the brain activities given 50 seconds EEGs and 10 minutes spectograms. For more info: https://www.kaggle.com/competitions/hms-harmful-brain-activity-classification"
   ]
  },
  {
   "cell_type": "code",
   "execution_count": 1,
   "metadata": {
    "_cell_guid": "b1076dfc-b9ad-4769-8c92-a6c4dae69d19",
    "_uuid": "8f2839f25d086af736a60e9eeb907d3b93b6e0e5",
    "execution": {
     "iopub.execute_input": "2024-05-25T22:04:44.259885Z",
     "iopub.status.busy": "2024-05-25T22:04:44.259572Z",
     "iopub.status.idle": "2024-05-25T22:04:48.844606Z",
     "shell.execute_reply": "2024-05-25T22:04:48.843607Z",
     "shell.execute_reply.started": "2024-05-25T22:04:44.259858Z"
    }
   },
   "outputs": [],
   "source": [
    "import numpy as np\n",
    "import torch\n",
    "import torch.autograd as autograd         # computation graph\n",
    "from torch import Tensor                  # tensor node in the computation graph\n",
    "import torch.nn as nn                     # neural networks\n",
    "import torch.nn.functional as F           # layers, activations and more\n",
    "import torch.optim as optim               # optimizers e.g. gradient descent, ADAM, etc.\n",
    "from torch.jit import script, trace\n",
    "import matplotlib.pyplot as plt\n",
    "import torchaudio\n",
    "import torchaudio.transforms as transforms\n",
    "\n",
    "import cv2\n",
    "import pandas as pd\n",
    "\n",
    "import joblib\n",
    "\n",
    "from tqdm.notebook import tqdm\n",
    "from torch.utils.data import Dataset\n",
    "from torch.utils.data import DataLoader\n"
   ]
  },
  {
   "cell_type": "code",
   "execution_count": 2,
   "metadata": {
    "execution": {
     "iopub.execute_input": "2024-05-25T22:04:53.595752Z",
     "iopub.status.busy": "2024-05-25T22:04:53.595161Z",
     "iopub.status.idle": "2024-05-25T22:04:53.599991Z",
     "shell.execute_reply": "2024-05-25T22:04:53.598817Z",
     "shell.execute_reply.started": "2024-05-25T22:04:53.595720Z"
    }
   },
   "outputs": [],
   "source": [
    "import os\n",
    "\n",
    "BASE_PATH = \"/kaggle/input/hms-harmful-brain-activity-classification\"\n"
   ]
  },
  {
   "cell_type": "markdown",
   "metadata": {},
   "source": [
    "In the next cell we will import the data and seperates them to trainning and testing sets.\n"
   ]
  },
  {
   "cell_type": "code",
   "execution_count": 3,
   "metadata": {
    "execution": {
     "iopub.execute_input": "2024-05-25T22:04:55.971629Z",
     "iopub.status.busy": "2024-05-25T22:04:55.970894Z",
     "iopub.status.idle": "2024-05-25T22:04:56.244598Z",
     "shell.execute_reply": "2024-05-25T22:04:56.243548Z",
     "shell.execute_reply.started": "2024-05-25T22:04:55.971590Z"
    }
   },
   "outputs": [],
   "source": [
    "df_total = pd.read_csv(f'{BASE_PATH}/train.csv')\n",
    "pr= np.random.rand(len(df_total))\n",
    "df_train=df_total[pr>0.3].reset_index(drop=True)\n",
    "df_test=df_total[pr<0.3].reset_index(drop=True)\n"
   ]
  },
  {
   "cell_type": "markdown",
   "metadata": {},
   "source": [
    "Here we define the 4 spectograms, one for each part of the brain. We define the 20 EEGs. And we normalize the data using the log function."
   ]
  },
  {
   "cell_type": "code",
   "execution_count": 4,
   "metadata": {
    "execution": {
     "iopub.execute_input": "2024-05-25T22:05:19.849429Z",
     "iopub.status.busy": "2024-05-25T22:05:19.848490Z",
     "iopub.status.idle": "2024-05-25T22:05:19.862062Z",
     "shell.execute_reply": "2024-05-25T22:05:19.861107Z",
     "shell.execute_reply.started": "2024-05-25T22:05:19.849393Z"
    }
   },
   "outputs": [],
   "source": [
    "class CustomImageDataset(Dataset):\n",
    "    def __init__(self, df, transform=None, target_transform=None):\n",
    "        self.df = df\n",
    "        self.transform = transform\n",
    "        self.target_transform = target_transform\n",
    "        \n",
    "    def __len__(self):\n",
    "        return len(self.df)\n",
    "    \n",
    "    def __getitem__(self, idx):\n",
    "        spec_id = self.df['spectrogram_id'][idx]\n",
    "        eeg_id = self.df['eeg_id'][idx]\n",
    "        eeg_offset = (self.df['eeg_label_offset_seconds'][idx]).astype(np.int64)\n",
    "   \n",
    "        a=pd.read_parquet(f\"{BASE_PATH}/train_spectrograms/{spec_id}.parquet\" )\n",
    "        spec_offset = (self.df['spectrogram_label_offset_seconds'][idx]//2).astype(np.int64)\n",
    "        a=a[spec_offset:spec_offset+300]\n",
    "        \n",
    "        a_LL=torch.tensor(a.filter(regex='^LL').values)\n",
    "        a_RL=torch.tensor(a.filter(regex='^RL').values)\n",
    "        a_RP=torch.tensor(a.filter(regex='^RP').values)\n",
    "        a_LP=torch.tensor(a.filter(regex='^LP').values)\n",
    "    \n",
    "        a_LL = torch.log(torch.nan_to_num(a_LL) +1)\n",
    "        a_RL = torch.log(torch.nan_to_num(a_RL) +1)\n",
    "        a_RP = torch.log(torch.nan_to_num(a_RP) +1)\n",
    "        a_LP = torch.log(torch.nan_to_num(a_LP) +1)\n",
    "        A = torch.stack([a_LL, a_RL, a_RP, a_LP], dim=0)\n",
    "        \n",
    "        b=pd.read_parquet(f\"{BASE_PATH}/train_eegs/{eeg_id}.parquet\" )\n",
    "        b=torch.tensor(b.values)[eeg_offset:eeg_offset+50*200,:]\n",
    "        b = torch.log(b**2 + 1)\n",
    "        #b = torch.tensor(np.load(os.path.join(SPEC_DIR+'/treatt_eeg', str(idx) + '.npy' )) )\n",
    "        \n",
    "        s=(self.df.iloc[idx, 9:].values).astype(float)\n",
    "        #print(s)\n",
    "        s=s/sum(s)\n",
    "        b= b.float() \n",
    "        s= torch.tensor(s).float()\n",
    "        \n",
    "        A[torch.isnan(A)] = 0\n",
    "        b[torch.isnan(b)] = 0\n",
    "        s[torch.isnan(s)] = 0\n",
    " \n",
    "        return A,b,s"
   ]
  },
  {
   "cell_type": "code",
   "execution_count": 5,
   "metadata": {
    "execution": {
     "iopub.execute_input": "2024-05-25T22:05:24.543190Z",
     "iopub.status.busy": "2024-05-25T22:05:24.542815Z",
     "iopub.status.idle": "2024-05-25T22:05:24.549394Z",
     "shell.execute_reply": "2024-05-25T22:05:24.548357Z",
     "shell.execute_reply.started": "2024-05-25T22:05:24.543158Z"
    }
   },
   "outputs": [],
   "source": [
    "\n",
    "\n",
    "def collate_fn(batch):\n",
    "\n",
    "\n",
    "    T, E, targets = [], [] , []\n",
    "\n",
    "    # Gather in lists, and encode labels as indices\n",
    "    for A,eeg, label  in batch:\n",
    "\n",
    "        T += [A.permute(0, 2, 1)]\n",
    "        E += [eeg.permute(1, 0)]\n",
    "        targets += [label]#[label_to_index(label)]\n",
    "\n",
    "    # Group the list of tensors into a batched tensor\n",
    "    T = torch.stack(T)\n",
    "    E = torch.stack(E)\n",
    "    targets = torch.stack(targets)\n",
    "\n",
    "    return T, E, targets"
   ]
  },
  {
   "cell_type": "code",
   "execution_count": 6,
   "metadata": {
    "execution": {
     "iopub.execute_input": "2024-05-25T22:05:25.099702Z",
     "iopub.status.busy": "2024-05-25T22:05:25.099315Z",
     "iopub.status.idle": "2024-05-25T22:05:25.105178Z",
     "shell.execute_reply": "2024-05-25T22:05:25.104114Z",
     "shell.execute_reply.started": "2024-05-25T22:05:25.099674Z"
    }
   },
   "outputs": [],
   "source": [
    "training_data=CustomImageDataset(df_train)\n",
    "train_dataloader = DataLoader(training_data, batch_size=128, shuffle=True, collate_fn=collate_fn)\n",
    "\n",
    "test_data=CustomImageDataset(df_test)\n",
    "test_dataloader = DataLoader(test_data, batch_size=128, shuffle=True, collate_fn=collate_fn)\n"
   ]
  },
  {
   "cell_type": "code",
   "execution_count": 7,
   "metadata": {
    "execution": {
     "iopub.execute_input": "2024-05-25T22:05:27.045338Z",
     "iopub.status.busy": "2024-05-25T22:05:27.044636Z",
     "iopub.status.idle": "2024-05-25T22:05:40.886847Z",
     "shell.execute_reply": "2024-05-25T22:05:40.885818Z",
     "shell.execute_reply.started": "2024-05-25T22:05:27.045308Z"
    }
   },
   "outputs": [],
   "source": [
    "T, E, labels = next(iter(train_dataloader))"
   ]
  },
  {
   "cell_type": "code",
   "execution_count": 8,
   "metadata": {
    "execution": {
     "iopub.execute_input": "2024-05-25T22:05:40.889042Z",
     "iopub.status.busy": "2024-05-25T22:05:40.888723Z",
     "iopub.status.idle": "2024-05-25T22:05:41.425993Z",
     "shell.execute_reply": "2024-05-25T22:05:41.425120Z",
     "shell.execute_reply.started": "2024-05-25T22:05:40.889013Z"
    }
   },
   "outputs": [
    {
     "data": {
      "text/plain": [
       "[<matplotlib.lines.Line2D at 0x7e937be4b970>]"
      ]
     },
     "execution_count": 8,
     "metadata": {},
     "output_type": "execute_result"
    },
    {
     "data": {
      "image/png": "[encoded data removed]",
      "text/plain": [
       "<Figure size 640x480 with 1 Axes>"
      ]
     },
     "metadata": {},
     "output_type": "display_data"
    }
   ],
   "source": [
    "plt.plot(torch.log(abs(E[4,0,:])))"
   ]
  },
  {
   "cell_type": "code",
   "execution_count": 9,
   "metadata": {
    "execution": {
     "iopub.execute_input": "2024-05-25T22:05:41.427674Z",
     "iopub.status.busy": "2024-05-25T22:05:41.427319Z",
     "iopub.status.idle": "2024-05-25T22:05:41.746542Z",
     "shell.execute_reply": "2024-05-25T22:05:41.745324Z",
     "shell.execute_reply.started": "2024-05-25T22:05:41.427642Z"
    }
   },
   "outputs": [
    {
     "data": {
      "image/png": "[encoded data removed]",
      "text/plain": [
       "<Figure size 640x480 with 2 Axes>"
      ]
     },
     "metadata": {},
     "output_type": "display_data"
    }
   ],
   "source": [
    "fig, ax = plt.subplots()\n",
    "\n",
    "# Plot the matrix\n",
    "cax = ax.matshow(T[1][0][:,:], cmap='viridis')\n",
    "\n",
    "# Add a colorbar\n",
    "fig.colorbar(cax)\n",
    "\n",
    "# Display the plot\n",
    "plt.show()"
   ]
  },
  {
   "cell_type": "code",
   "execution_count": 10,
   "metadata": {
    "execution": {
     "iopub.execute_input": "2024-05-25T22:05:47.039886Z",
     "iopub.status.busy": "2024-05-25T22:05:47.039167Z",
     "iopub.status.idle": "2024-05-25T22:05:47.093368Z",
     "shell.execute_reply": "2024-05-25T22:05:47.092349Z",
     "shell.execute_reply.started": "2024-05-25T22:05:47.039859Z"
    }
   },
   "outputs": [
    {
     "name": "stdout",
     "output_type": "stream",
     "text": [
      "cuda\n"
     ]
    }
   ],
   "source": [
    "device = torch.device(\"cuda\" if torch.cuda.is_available() else \"cpu\")\n",
    "print(device)"
   ]
  },
  {
   "cell_type": "code",
   "execution_count": 11,
   "metadata": {
    "execution": {
     "iopub.execute_input": "2024-05-25T22:05:47.842525Z",
     "iopub.status.busy": "2024-05-25T22:05:47.841798Z",
     "iopub.status.idle": "2024-05-25T22:05:50.130161Z",
     "shell.execute_reply": "2024-05-25T22:05:50.129357Z",
     "shell.execute_reply.started": "2024-05-25T22:05:47.842495Z"
    }
   },
   "outputs": [],
   "source": [
    "from torchvision import models, transforms\n",
    "from torchvision.models import ResNet18_Weights\n"
   ]
  },
  {
   "cell_type": "markdown",
   "metadata": {},
   "source": [
    "# The model:\n",
    "The input of the model are 4 spectograms, which are a $400 \\times 300$ matrix, and 20 EEGs which are $10 000$ long vectors. The spectograms are treated with a pretrained CNN convolution network (resnet 18), where we change the the first convolution layer (a convolution layer with 4 input channels), and the output of the network is a $[1\\times 100]$ long vector $y_1$. \\\\\n",
    "The EEGs are treated with a 1D convolution neural network, where the output is a $[1\\times 100]$ long vector $y_2$.\n",
    "The two vectors $y_1$ and $y_2$ are then passed through a shallow feedforward neural network."
   ]
  },
  {
   "cell_type": "code",
   "execution_count": 12,
   "metadata": {
    "execution": {
     "iopub.execute_input": "2024-05-25T22:06:07.066967Z",
     "iopub.status.busy": "2024-05-25T22:06:07.065902Z",
     "iopub.status.idle": "2024-05-25T22:06:08.092360Z",
     "shell.execute_reply": "2024-05-25T22:06:08.091321Z",
     "shell.execute_reply.started": "2024-05-25T22:06:07.066934Z"
    }
   },
   "outputs": [
    {
     "name": "stderr",
     "output_type": "stream",
     "text": [
      "Downloading: \"https://download.pytorch.org/models/resnet18-f37072fd.pth\" to /root/.cache/torch/hub/checkpoints/resnet18-f37072fd.pth\n",
      "100%|██████████| 44.7M/44.7M [00:00<00:00, 93.8MB/s]\n"
     ]
    }
   ],
   "source": [
    "m_spec = models.resnet18(weights=ResNet18_Weights.DEFAULT)\n",
    "m_spec.conv1 = nn.Conv2d(4, 64, kernel_size=(7, 7), stride=(2, 2), padding=(3, 3), bias=False)\n",
    "m_spec.fc = nn.Linear(512, 100)\n",
    "m_spec=m_spec.to(device)"
   ]
  },
  {
   "cell_type": "code",
   "execution_count": 13,
   "metadata": {
    "execution": {
     "iopub.execute_input": "2024-05-25T22:08:06.623465Z",
     "iopub.status.busy": "2024-05-25T22:08:06.622830Z",
     "iopub.status.idle": "2024-05-25T22:08:06.652120Z",
     "shell.execute_reply": "2024-05-25T22:08:06.651227Z",
     "shell.execute_reply.started": "2024-05-25T22:08:06.623431Z"
    }
   },
   "outputs": [
    {
     "data": {
      "text/plain": [
       "Meeg(\n",
       "  (conv1): Conv1d(20, 64, kernel_size=(30,), stride=(5,))\n",
       "  (bn1): BatchNorm1d(64, eps=1e-05, momentum=0.1, affine=True, track_running_stats=True)\n",
       "  (pool1): MaxPool1d(kernel_size=3, stride=3, padding=0, dilation=1, ceil_mode=False)\n",
       "  (conv2): Conv1d(64, 128, kernel_size=(30,), stride=(5,))\n",
       "  (bn2): BatchNorm1d(128, eps=1e-05, momentum=0.1, affine=True, track_running_stats=True)\n",
       "  (pool2): MaxPool1d(kernel_size=2, stride=2, padding=0, dilation=1, ceil_mode=False)\n",
       "  (conv3): Conv1d(128, 128, kernel_size=(30,), stride=(5,))\n",
       "  (bn3): BatchNorm1d(128, eps=1e-05, momentum=0.1, affine=True, track_running_stats=True)\n",
       "  (pool3): MaxPool1d(kernel_size=2, stride=2, padding=0, dilation=1, ceil_mode=False)\n",
       "  (fc1): Linear(in_features=128, out_features=100, bias=True)\n",
       "  (fc2): Linear(in_features=100, out_features=100, bias=True)\n",
       "  (fc3): Linear(in_features=100, out_features=100, bias=True)\n",
       "  (fc4): Linear(in_features=100, out_features=6, bias=True)\n",
       ")"
      ]
     },
     "execution_count": 13,
     "metadata": {},
     "output_type": "execute_result"
    }
   ],
   "source": [
    "class Meeg(nn.Module):\n",
    "    def __init__(self, n_input=4, n_output=6, stride=3, n_channel=64):\n",
    "        super().__init__()\n",
    "        self.conv1 = nn.Conv1d(20, n_channel, kernel_size=(30), stride=(5))\n",
    "        self.bn1 = nn.BatchNorm1d(n_channel)\n",
    "        self.pool1 = nn.MaxPool1d(3)\n",
    "        self.conv2 = nn.Conv1d(n_channel, 2*n_channel, kernel_size=(30), stride=(5))\n",
    "        self.bn2 = nn.BatchNorm1d(2*n_channel)\n",
    "        self.pool2 = nn.MaxPool1d(2)\n",
    "        self.conv3 = nn.Conv1d(2*n_channel, 2 * n_channel, kernel_size=(30), stride=(5))\n",
    "        self.bn3 = nn.BatchNorm1d(2 * n_channel)\n",
    "        self.pool3 = nn.MaxPool1d(2)\n",
    "\n",
    "        \n",
    "        self.fc1 = nn.Linear(2 * n_channel, 100)\n",
    "        self.fc2 = nn.Linear(100, 100)\n",
    "        \n",
    "        self.fc3 = nn.Linear(100, 100)\n",
    "        self.fc4 = nn.Linear(100, 6)\n",
    "\n",
    "        \n",
    "    def forward(self, x,y):\n",
    "        x = self.conv1(x)\n",
    "        x = F.relu(self.bn1(x))\n",
    "        x = self.pool1(x)\n",
    "        x = self.conv2(x)\n",
    "        x = F.relu(self.bn2(x))\n",
    "        x = self.pool2(x)\n",
    "        x = self.conv3(x)\n",
    "        x = F.relu(self.bn3(x))\n",
    "        x = self.pool3(x)\n",
    "        x=x.permute(0,2,1)\n",
    "        x=torch.mean(x,1)\n",
    "\n",
    "\n",
    "        x = self.fc1(x)\n",
    "        x = self.fc2(x+y)\n",
    "        x = self.fc3(x)\n",
    "        x = self.fc4(x)\n",
    "\n",
    "   \n",
    "        return x\n",
    "\n",
    "\n",
    "m_eeg = Meeg(n_input=4, n_output=6)\n",
    "m_eeg.to(device)\n",
    "#print(model)\n",
    "\n",
    "\n"
   ]
  },
  {
   "cell_type": "code",
   "execution_count": 14,
   "metadata": {
    "execution": {
     "iopub.execute_input": "2024-05-25T22:08:42.241851Z",
     "iopub.status.busy": "2024-05-25T22:08:42.241502Z",
     "iopub.status.idle": "2024-05-25T22:08:42.246361Z",
     "shell.execute_reply": "2024-05-25T22:08:42.245434Z",
     "shell.execute_reply.started": "2024-05-25T22:08:42.241823Z"
    }
   },
   "outputs": [],
   "source": [
    "def for_pass(E,T):\n",
    "    y=m_spec(T)\n",
    "    return m_eeg(E,y) "
   ]
  },
  {
   "cell_type": "code",
   "execution_count": 16,
   "metadata": {
    "execution": {
     "iopub.execute_input": "2024-05-25T22:09:19.866224Z",
     "iopub.status.busy": "2024-05-25T22:09:19.865845Z",
     "iopub.status.idle": "2024-05-25T22:09:19.874554Z",
     "shell.execute_reply": "2024-05-25T22:09:19.873632Z",
     "shell.execute_reply.started": "2024-05-25T22:09:19.866192Z"
    }
   },
   "outputs": [],
   "source": [
    "kl_loss = nn.CrossEntropyLoss()\n",
    "def train(m_spec,m_eeg, epoch, log_interval):\n",
    "    m_spec.train()\n",
    "    m_eeg.train()\n",
    "    for batch_idx, (spec,eeg, target) in enumerate(train_dataloader):\n",
    "        \n",
    "        spec = spec.to(device)\n",
    "        eeg = eeg.to(device)\n",
    "        target = target.to(device)\n",
    "                \n",
    "        output = for_pass(eeg,spec)\n",
    "\n",
    "        loss = kl_loss(output.squeeze(), target.squeeze())\n",
    "        if torch.isnan(loss):\n",
    "            print('break')\n",
    "            break\n",
    "            \n",
    "\n",
    "        optimizer.zero_grad()\n",
    "        loss.backward()\n",
    "        optimizer.step()\n",
    "\n",
    "        # print training stats\n",
    "        if batch_idx % log_interval == 0:\n",
    "            print(f\"Train Epoch: {epoch} [{batch_idx * len(eeg)}/{len(train_dataloader.dataset)} ({100. * batch_idx / len(train_dataloader):.0f}%)]\\tLoss: {loss.item():.6f}\")\n",
    "\n",
    "        # update progress bar\n",
    "        pbar.update(pbar_update)\n",
    "        # record loss\n",
    "        losses.append(loss.item())\n",
    "        clear_cuda_memory()\n",
    "        gc.collect()"
   ]
  },
  {
   "cell_type": "code",
   "execution_count": 17,
   "metadata": {
    "execution": {
     "iopub.execute_input": "2024-05-25T22:09:24.373216Z",
     "iopub.status.busy": "2024-05-25T22:09:24.372422Z",
     "iopub.status.idle": "2024-05-25T22:09:24.539930Z",
     "shell.execute_reply": "2024-05-25T22:09:24.538940Z",
     "shell.execute_reply.started": "2024-05-25T22:09:24.373183Z"
    }
   },
   "outputs": [],
   "source": [
    "import gc\n",
    "\n",
    "def clear_cuda_memory():\n",
    "    gc.collect()\n",
    "    torch.cuda.empty_cache()\n",
    "clear_cuda_memory()\n"
   ]
  },
  {
   "cell_type": "markdown",
   "metadata": {},
   "source": [
    "The models are trained for 1 epoch"
   ]
  },
  {
   "cell_type": "code",
   "execution_count": 18,
   "metadata": {
    "execution": {
     "iopub.execute_input": "2024-05-25T22:09:37.568839Z",
     "iopub.status.busy": "2024-05-25T22:09:37.568479Z",
     "iopub.status.idle": "2024-05-25T23:26:04.978741Z",
     "shell.execute_reply": "2024-05-25T23:26:04.977714Z",
     "shell.execute_reply.started": "2024-05-25T22:09:37.568810Z"
    }
   },
   "outputs": [
    {
     "name": "stderr",
     "output_type": "stream",
     "text": [
      "  0%|          | 0.0017094017094017094/1 [00:12<2:06:12, 7585.32s/it]"
     ]
    },
    {
     "name": "stdout",
     "output_type": "stream",
     "text": [
      "Train Epoch: 1 [0/74815 (0%)]\tLoss: 1.840576\n"
     ]
    },
    {
     "name": "stderr",
     "output_type": "stream",
     "text": [
      "  4%|▎         | 0.03589743589743591/1 [04:22<2:08:20, 7987.60s/it]  "
     ]
    },
    {
     "name": "stdout",
     "output_type": "stream",
     "text": [
      "Train Epoch: 1 [2560/74815 (3%)]\tLoss: 1.320100\n"
     ]
    },
    {
     "name": "stderr",
     "output_type": "stream",
     "text": [
      "  7%|▋         | 0.07008547008547009/1 [08:21<1:41:45, 6566.17s/it]"
     ]
    },
    {
     "name": "stdout",
     "output_type": "stream",
     "text": [
      "Train Epoch: 1 [5120/74815 (7%)]\tLoss: 1.199706\n"
     ]
    },
    {
     "name": "stderr",
     "output_type": "stream",
     "text": [
      " 10%|█         | 0.10427350427350415/1 [11:40<1:17:58, 5222.86s/it]"
     ]
    },
    {
     "name": "stdout",
     "output_type": "stream",
     "text": [
      "Train Epoch: 1 [7680/74815 (10%)]\tLoss: 1.144393\n"
     ]
    },
    {
     "name": "stderr",
     "output_type": "stream",
     "text": [
      " 14%|█▍        | 0.13846153846153822/1 [14:31<1:10:56, 4940.10s/it]"
     ]
    },
    {
     "name": "stdout",
     "output_type": "stream",
     "text": [
      "Train Epoch: 1 [10240/74815 (14%)]\tLoss: 1.008455\n"
     ]
    },
    {
     "name": "stderr",
     "output_type": "stream",
     "text": [
      " 17%|█▋        | 0.17264957264957229/1 [17:13<1:06:37, 4832.25s/it]"
     ]
    },
    {
     "name": "stdout",
     "output_type": "stream",
     "text": [
      "Train Epoch: 1 [12800/74815 (17%)]\tLoss: 0.977309\n"
     ]
    },
    {
     "name": "stderr",
     "output_type": "stream",
     "text": [
      " 21%|██        | 0.20683760683760635/1 [19:52<1:01:36, 4659.98s/it]"
     ]
    },
    {
     "name": "stdout",
     "output_type": "stream",
     "text": [
      "Train Epoch: 1 [15360/74815 (21%)]\tLoss: 1.053740\n"
     ]
    },
    {
     "name": "stderr",
     "output_type": "stream",
     "text": [
      " 24%|██▍       | 0.24102564102564042/1 [22:29<57:46, 4567.58s/it]  "
     ]
    },
    {
     "name": "stdout",
     "output_type": "stream",
     "text": [
      "Train Epoch: 1 [17920/74815 (24%)]\tLoss: 1.035283\n"
     ]
    },
    {
     "name": "stderr",
     "output_type": "stream",
     "text": [
      " 28%|██▊       | 0.2752136752136745/1 [25:07<1:00:01, 4969.07s/it]"
     ]
    },
    {
     "name": "stdout",
     "output_type": "stream",
     "text": [
      "Train Epoch: 1 [20480/74815 (27%)]\tLoss: 0.875626\n"
     ]
    },
    {
     "name": "stderr",
     "output_type": "stream",
     "text": [
      " 31%|███       | 0.3094017094017086/1 [27:40<51:11, 4447.89s/it]  "
     ]
    },
    {
     "name": "stdout",
     "output_type": "stream",
     "text": [
      "Train Epoch: 1 [23040/74815 (31%)]\tLoss: 0.783965\n"
     ]
    },
    {
     "name": "stderr",
     "output_type": "stream",
     "text": [
      " 34%|███▍      | 0.34358974358974265/1 [30:12<48:30, 4434.61s/it]"
     ]
    },
    {
     "name": "stdout",
     "output_type": "stream",
     "text": [
      "Train Epoch: 1 [25600/74815 (34%)]\tLoss: 0.790517\n"
     ]
    },
    {
     "name": "stderr",
     "output_type": "stream",
     "text": [
      " 38%|███▊      | 0.3777777777777767/1 [32:41<46:01, 4438.82s/it] "
     ]
    },
    {
     "name": "stdout",
     "output_type": "stream",
     "text": [
      "Train Epoch: 1 [28160/74815 (38%)]\tLoss: 0.866483\n"
     ]
    },
    {
     "name": "stderr",
     "output_type": "stream",
     "text": [
      " 41%|████      | 0.4119658119658108/1 [35:12<43:25, 4431.54s/it] "
     ]
    },
    {
     "name": "stdout",
     "output_type": "stream",
     "text": [
      "Train Epoch: 1 [30720/74815 (41%)]\tLoss: 0.756686\n"
     ]
    },
    {
     "name": "stderr",
     "output_type": "stream",
     "text": [
      " 45%|████▍     | 0.44615384615384485/1 [37:41<39:55, 4325.74s/it]"
     ]
    },
    {
     "name": "stdout",
     "output_type": "stream",
     "text": [
      "Train Epoch: 1 [33280/74815 (44%)]\tLoss: 0.764534\n"
     ]
    },
    {
     "name": "stderr",
     "output_type": "stream",
     "text": [
      " 48%|████▊     | 0.4803418803418789/1 [40:10<38:25, 4435.88s/it] "
     ]
    },
    {
     "name": "stdout",
     "output_type": "stream",
     "text": [
      "Train Epoch: 1 [35840/74815 (48%)]\tLoss: 0.834887\n"
     ]
    },
    {
     "name": "stderr",
     "output_type": "stream",
     "text": [
      " 51%|█████▏    | 0.514529914529913/1 [42:36<34:38, 4280.68s/it]  "
     ]
    },
    {
     "name": "stdout",
     "output_type": "stream",
     "text": [
      "Train Epoch: 1 [38400/74815 (51%)]\tLoss: 0.734544\n"
     ]
    },
    {
     "name": "stderr",
     "output_type": "stream",
     "text": [
      " 55%|█████▍    | 0.5487179487179471/1 [45:01<31:58, 4250.17s/it]"
     ]
    },
    {
     "name": "stdout",
     "output_type": "stream",
     "text": [
      "Train Epoch: 1 [40960/74815 (55%)]\tLoss: 0.752514\n"
     ]
    },
    {
     "name": "stderr",
     "output_type": "stream",
     "text": [
      " 58%|█████▊    | 0.5829059829059812/1 [47:26<29:33, 4251.81s/it]"
     ]
    },
    {
     "name": "stdout",
     "output_type": "stream",
     "text": [
      "Train Epoch: 1 [43520/74815 (58%)]\tLoss: 0.769965\n"
     ]
    },
    {
     "name": "stderr",
     "output_type": "stream",
     "text": [
      " 62%|██████▏   | 0.6170940170940152/1 [49:49<27:01, 4233.54s/it]"
     ]
    },
    {
     "name": "stdout",
     "output_type": "stream",
     "text": [
      "Train Epoch: 1 [46080/74815 (62%)]\tLoss: 0.829780\n"
     ]
    },
    {
     "name": "stderr",
     "output_type": "stream",
     "text": [
      " 65%|██████▌   | 0.6512820512820493/1 [52:16<25:06, 4319.09s/it]"
     ]
    },
    {
     "name": "stdout",
     "output_type": "stream",
     "text": [
      "Train Epoch: 1 [48640/74815 (65%)]\tLoss: 0.676048\n"
     ]
    },
    {
     "name": "stderr",
     "output_type": "stream",
     "text": [
      " 69%|██████▊   | 0.6854700854700834/1 [54:38<22:17, 4251.86s/it]"
     ]
    },
    {
     "name": "stdout",
     "output_type": "stream",
     "text": [
      "Train Epoch: 1 [51200/74815 (68%)]\tLoss: 0.754794\n"
     ]
    },
    {
     "name": "stderr",
     "output_type": "stream",
     "text": [
      " 72%|███████▏  | 0.7196581196581174/1 [57:03<19:24, 4152.94s/it]"
     ]
    },
    {
     "name": "stdout",
     "output_type": "stream",
     "text": [
      "Train Epoch: 1 [53760/74815 (72%)]\tLoss: 0.663010\n"
     ]
    },
    {
     "name": "stderr",
     "output_type": "stream",
     "text": [
      " 75%|███████▌  | 0.7538461538461515/1 [59:24<17:03, 4156.07s/it]"
     ]
    },
    {
     "name": "stdout",
     "output_type": "stream",
     "text": [
      "Train Epoch: 1 [56320/74815 (75%)]\tLoss: 0.680708\n"
     ]
    },
    {
     "name": "stderr",
     "output_type": "stream",
     "text": [
      " 79%|███████▉  | 0.7880341880341856/1 [1:01:47<14:53, 4217.51s/it]"
     ]
    },
    {
     "name": "stdout",
     "output_type": "stream",
     "text": [
      "Train Epoch: 1 [58880/74815 (79%)]\tLoss: 0.748068\n"
     ]
    },
    {
     "name": "stderr",
     "output_type": "stream",
     "text": [
      " 82%|████████▏ | 0.8222222222222196/1 [1:04:10<12:20, 4163.67s/it]"
     ]
    },
    {
     "name": "stdout",
     "output_type": "stream",
     "text": [
      "Train Epoch: 1 [61440/74815 (82%)]\tLoss: 0.746228\n"
     ]
    },
    {
     "name": "stderr",
     "output_type": "stream",
     "text": [
      " 86%|████████▌ | 0.8564102564102537/1 [1:06:31<09:59, 4176.15s/it]"
     ]
    },
    {
     "name": "stdout",
     "output_type": "stream",
     "text": [
      "Train Epoch: 1 [64000/74815 (85%)]\tLoss: 0.636430\n"
     ]
    },
    {
     "name": "stderr",
     "output_type": "stream",
     "text": [
      " 89%|████████▉ | 0.8905982905982878/1 [1:08:52<07:34, 4155.86s/it]"
     ]
    },
    {
     "name": "stdout",
     "output_type": "stream",
     "text": [
      "Train Epoch: 1 [66560/74815 (89%)]\tLoss: 0.734325\n"
     ]
    },
    {
     "name": "stderr",
     "output_type": "stream",
     "text": [
      " 92%|█████████▏| 0.9247863247863218/1 [1:11:15<05:19, 4252.83s/it]"
     ]
    },
    {
     "name": "stdout",
     "output_type": "stream",
     "text": [
      "Train Epoch: 1 [69120/74815 (92%)]\tLoss: 0.784436\n"
     ]
    },
    {
     "name": "stderr",
     "output_type": "stream",
     "text": [
      " 96%|█████████▌| 0.9589743589743559/1 [1:13:39<02:49, 4131.04s/it]"
     ]
    },
    {
     "name": "stdout",
     "output_type": "stream",
     "text": [
      "Train Epoch: 1 [71680/74815 (96%)]\tLoss: 0.649822\n"
     ]
    },
    {
     "name": "stderr",
     "output_type": "stream",
     "text": [
      " 99%|█████████▉| 0.99316239316239/1 [1:16:01<00:28, 4221.41s/it]  "
     ]
    },
    {
     "name": "stdout",
     "output_type": "stream",
     "text": [
      "Train Epoch: 1 [74240/74815 (99%)]\tLoss: 0.627770\n"
     ]
    },
    {
     "name": "stderr",
     "output_type": "stream",
     "text": [
      "100%|█████████▉| 0.9999999999999968/1 [1:16:27<00:00, 4587.40s/it]\n"
     ]
    }
   ],
   "source": [
    "params = list(m_spec.parameters()) + list(m_eeg.parameters())\n",
    "optimizer = optim.Adam(params, lr=0.0001)\n",
    "scheduler = optim.lr_scheduler.StepLR(optimizer, step_size=10, gamma=0.1)\n",
    "\n",
    "from tqdm import tqdm\n",
    "\n",
    "log_interval = 20\n",
    "n_epoch = 1\n",
    "\n",
    "pbar_update = 1 / (len(train_dataloader) )\n",
    "losses = []\n",
    "\n",
    "with tqdm(total=n_epoch) as pbar:\n",
    "    for epoch in range(1, n_epoch + 1):\n",
    "        train(m_spec,m_eeg, epoch, log_interval)\n",
    "        #test(model, epoch)\n",
    "        scheduler.step()\n",
    "        "
   ]
  },
  {
   "cell_type": "code",
   "execution_count": 28,
   "metadata": {
    "execution": {
     "iopub.execute_input": "2024-05-23T18:27:25.037065Z",
     "iopub.status.busy": "2024-05-23T18:27:25.036695Z",
     "iopub.status.idle": "2024-05-23T18:27:25.043219Z",
     "shell.execute_reply": "2024-05-23T18:27:25.042199Z",
     "shell.execute_reply.started": "2024-05-23T18:27:25.037039Z"
    }
   },
   "outputs": [
    {
     "data": {
      "text/plain": [
       "(32084, 15)"
      ]
     },
     "execution_count": 28,
     "metadata": {},
     "output_type": "execute_result"
    }
   ],
   "source": [
    "df_test.shape"
   ]
  },
  {
   "cell_type": "code",
   "execution_count": 19,
   "metadata": {
    "execution": {
     "iopub.execute_input": "2024-05-26T00:03:49.309564Z",
     "iopub.status.busy": "2024-05-26T00:03:49.308715Z",
     "iopub.status.idle": "2024-05-26T00:03:49.710778Z",
     "shell.execute_reply": "2024-05-26T00:03:49.709879Z",
     "shell.execute_reply.started": "2024-05-26T00:03:49.309530Z"
    }
   },
   "outputs": [
    {
     "data": {
      "text/plain": [
       "[<matplotlib.lines.Line2D at 0x7e931194f160>]"
      ]
     },
     "execution_count": 19,
     "metadata": {},
     "output_type": "execute_result"
    },
    {
     "data": {
      "image/png": "[encoded data removed]",
      "text/plain": [
       "<Figure size 640x480 with 1 Axes>"
      ]
     },
     "metadata": {},
     "output_type": "display_data"
    }
   ],
   "source": [
    "plt.semilogy(losses)"
   ]
  },
  {
   "cell_type": "markdown",
   "metadata": {},
   "source": [
    "The model is tested on the testing data (unseen during training), the accuracy is measured by the most likely predicted brain activity, vs the brain activity that received the most votes"
   ]
  },
  {
   "cell_type": "code",
   "execution_count": 23,
   "metadata": {
    "execution": {
     "iopub.execute_input": "2024-05-26T00:04:03.570750Z",
     "iopub.status.busy": "2024-05-26T00:04:03.570404Z",
     "iopub.status.idle": "2024-05-26T00:04:10.190214Z",
     "shell.execute_reply": "2024-05-26T00:04:10.189405Z",
     "shell.execute_reply.started": "2024-05-26T00:04:03.570721Z"
    }
   },
   "outputs": [],
   "source": [
    "T, E,targets = next(iter(test_dataloader))"
   ]
  },
  {
   "cell_type": "code",
   "execution_count": 24,
   "metadata": {
    "execution": {
     "iopub.execute_input": "2024-05-26T00:04:10.192043Z",
     "iopub.status.busy": "2024-05-26T00:04:10.191752Z",
     "iopub.status.idle": "2024-05-26T00:04:10.364277Z",
     "shell.execute_reply": "2024-05-26T00:04:10.363578Z",
     "shell.execute_reply.started": "2024-05-26T00:04:10.192018Z"
    }
   },
   "outputs": [],
   "source": [
    "acc=[]\n",
    "#T[1:8].unsqueeze(1).to(device)\n",
    "p=torch.softmax(for_pass(E.to(device),T.to(device)).cpu(),dim=1)\n",
    "\n",
    "for j in range(len(T)):\n",
    "    isit = torch.where(targets[j]==max(targets[j]))[0][0] == torch.where(p[j]==max(p[j]))[0][0]\n",
    "    acc.append(isit)"
   ]
  },
  {
   "cell_type": "code",
   "execution_count": 35,
   "metadata": {
    "execution": {
     "iopub.execute_input": "2024-05-26T00:05:47.762779Z",
     "iopub.status.busy": "2024-05-26T00:05:47.762428Z",
     "iopub.status.idle": "2024-05-26T00:05:47.769876Z",
     "shell.execute_reply": "2024-05-26T00:05:47.768832Z",
     "shell.execute_reply.started": "2024-05-26T00:05:47.762751Z"
    }
   },
   "outputs": [
    {
     "name": "stdout",
     "output_type": "stream",
     "text": [
      "accuracy = 0.8203125\n"
     ]
    }
   ],
   "source": [
    "accuracy = sum(acc)/len(acc)\n",
    "print('accuracy =', accuracy.item())"
   ]
  },
  {
   "cell_type": "code",
   "execution_count": null,
   "metadata": {},
   "outputs": [],
   "source": []
  },
  {
   "cell_type": "code",
   "execution_count": null,
   "metadata": {},
   "outputs": [],
   "source": []
  },
  {
   "cell_type": "code",
   "execution_count": null,
   "metadata": {},
   "outputs": [],
   "source": []
  },
  {
   "cell_type": "code",
   "execution_count": null,
   "metadata": {},
   "outputs": [],
   "source": []
  }
 ],
 "metadata": {
  "kaggle": {
   "accelerator": "nvidiaTeslaT4",
   "dataSources": [
    {
     "databundleVersionId": 7469972,
     "sourceId": 59093,
     "sourceType": "competition"
    }
   ],
   "dockerImageVersionId": 30699,
   "isGpuEnabled": true,
   "isInternetEnabled": true,
   "language": "python",
   "sourceType": "notebook"
  },
  "kernelspec": {
   "display_name": "Python 3",
   "language": "python",
   "name": "python3"
  },
  "language_info": {
   "codemirror_mode": {
    "name": "ipython",
    "version": 3
   },
   "file_extension": ".py",
   "mimetype": "text/x-python",
   "name": "python",
   "nbconvert_exporter": "python",
   "pygments_lexer": "ipython3",
   "version": "3.8.5"
  }
 },
 "nbformat": 4,
 "nbformat_minor": 4
}
